{
 "cells": [
  {
   "cell_type": "markdown",
   "id": "c28affa9",
   "metadata": {},
   "source": [
    "# Python Basics Assignment Notebook\n",
    "Instructions\n",
    "Complete all the exercises below. Each section corresponds to the concepts covered in class. Write your code in the designated cells and test your solutions."
   ]
  },
  {
   "cell_type": "markdown",
   "id": "d753050e",
   "metadata": {},
   "source": [
    "# Section 1: Print Statements and Basic Operations\n",
    "### Exercise 1.1: Print Statement\n",
    "\n",
    "Write a print statement that displays your name."
   ]
  },
  {
   "cell_type": "code",
   "execution_count": null,
   "id": "5dd3cbe8",
   "metadata": {},
   "outputs": [],
   "source": [
    "# Your code here\n",
    "name = (\"Fatima\")\n",
    "# print(\"name\")"
   ]
  },
  {
   "cell_type": "markdown",
   "id": "9787a1fc",
   "metadata": {},
   "source": [
    "### Exercise 1.2: Arithmetic Operations\n",
    "Calculate and print the results of the following operations:\n",
    "\n",
    "- Add 15 and 25\n",
    "- Subtract 30 from 50\n",
    "- Multiply 7 by 8\n",
    "- Divide 100 by 4\n",
    "- Find the integer division of 100 by 3\n",
    "- Find the remainder when 100 is divided by 3\n",
    "- Calculate 2 to the power of 5"
   ]
  },
  {
   "cell_type": "code",
   "execution_count": null,
   "id": "0e3f8a53",
   "metadata": {},
   "outputs": [],
   "source": [
    "# Your code here\n",
    "\n",
    "# Add 15 + 25\n",
    "a = 15\n",
    "b = 25\n",
    "c = a+b\n",
    "# print (\"c\")\n",
    "# print c = (val(a)+val(b))\n",
    "# print c =  (\"15+25\")\n",
    "\n",
    "# Sutract 30 from 25\n",
    "a = 30\n",
    "b = 50\n",
    "c = a-b\n",
    "# print(\"c\")\n",
    "# print c = (val(a)-val(b))\n",
    "# print c = (\"30-50\")\n",
    "\n",
    "# Multiply 7 by 2\n",
    "a = 7\n",
    "b = 2\n",
    "c = a * b\n",
    "# print (\"c\")\n",
    "# print c = (val(a)*val(b))\n",
    "# print c =(\"7*2\")\n",
    "\n",
    "# Divide 100 y 4\n",
    "x = 100\n",
    "y = 4\n",
    "z = x/y\n",
    "# print (\"z\")\n",
    "# print z = (val(x)/val(y))\n",
    "# print z = (\"100/4\")\n",
    "\n",
    "# Find the integer division of 100 by 3\n",
    "a = 100\n",
    "b = 3\n",
    "# print(int(100/3))\n",
    "# print(100 // 3)\n",
    "\n",
    "# Find the remainder when 100 is divided by 3\n",
    "a = 100\n",
    "b = 3\n",
    "c = (\"a % b\")\n",
    "# print (\"c\")\n",
    "# print (\"100 % 3\")\n",
    "\n",
    "#Calculate 2 to the power of 5\n",
    "x = 2\n",
    "y = 5\n",
    "z = (\"x ** y\")\n",
    "# print (\"2 ** 5\")\n",
    "\n"
   ]
  },
  {
   "cell_type": "markdown",
   "id": "bfa00188",
   "metadata": {},
   "source": [
    "Construct the following equation and calculate the value the value of y using Python\n",
    "![Alt text](image.png)"
   ]
  },
  {
   "cell_type": "code",
   "execution_count": null,
   "id": "960bd718",
   "metadata": {},
   "outputs": [],
   "source": [
    "# Your code here\n",
    "x = 2\n",
    " # y = (3 * x**2) + (5 * x) - 5/1 - (2 * x)\n",
    " # print(y)\n",
    "\n"
   ]
  },
  {
   "cell_type": "markdown",
   "id": "5498283c",
   "metadata": {},
   "source": [
    "#  Section 2: Variables and Assignment Operators\n",
    "### Exercise 2.1: Variable Assignment\n",
    "\n",
    "Create variables with the following values:\n",
    "\n",
    "- student_name = your name\n",
    "- age = your age\n",
    "- grade = your current grade/class\n",
    "\n",
    "Print all three variables."
   ]
  },
  {
   "cell_type": "code",
   "execution_count": null,
   "id": "77b416ac",
   "metadata": {},
   "outputs": [],
   "source": [
    "# Your code here\n",
    "# print(\"Student Name:\" , student_name)\n",
    "# print(\"Student Age:\", student_age)\n",
    "# print(\"Student Grade:\" , student_grade)\n"
   ]
  },
  {
   "cell_type": "markdown",
   "id": "1e7171bb",
   "metadata": {},
   "source": [
    "### Exercise 2.2: Mathematical Operations with Variables\n",
    "Create two variables a = 10 and b = 5. Then:\n",
    "\n",
    "- Calculate their sum and store in variable sum_result\n",
    "- Calculate their product and store in variable product_result\n",
    "- Print both results"
   ]
  },
  {
   "cell_type": "code",
   "execution_count": null,
   "id": "855024ba",
   "metadata": {},
   "outputs": [],
   "source": [
    "# Your code here\n",
    "a = 10\n",
    "b = 5\n",
    "# sum_result = a + b\n",
    "\n",
    "a = 10\n",
    "b = 5\n",
    "# product_result = (\"a * b\")\n",
    "\n",
    "# print (\"sum:\" , sum_result)\n",
    "# print (\"product:\" , product_result)"
   ]
  },
  {
   "cell_type": "markdown",
   "id": "4051636e",
   "metadata": {},
   "source": []
  },
  {
   "cell_type": "markdown",
   "id": "43f5582a",
   "metadata": {},
   "source": [
    "### Exercise 2.3: Increment and Decrement Operators\n",
    "Start with a variable counter = 0:\n",
    "\n",
    "- Increment it by 3 using the += operator\n",
    "- Print the result\n",
    "- Decrement it by 1 using the -= operator\n",
    "- Print the final result"
   ]
  },
  {
   "cell_type": "code",
   "execution_count": null,
   "id": "715a472d",
   "metadata": {},
   "outputs": [],
   "source": [
    "# Your code here\n",
    "# Increment it by 3 using the += operator\n",
    "# counter =  0\n",
    "# counter += 3\n",
    "\n",
    "# print the results\n",
    "# print(\"counter\")\n",
    "\n",
    "# Decrement it by 1 using the -= operator \n",
    "#counter -=1\n",
    "#print(\"counter\")\n",
    "\n",
    "#print the final result\n",
    "# counter += 3\n",
    "# print(\"After increment:\" , counter)\n",
    "# counter -= 1\n",
    "# print(\"After decrement:\" , counter)\n"
   ]
  },
  {
   "cell_type": "markdown",
   "id": "a302e721",
   "metadata": {},
   "source": [
    "# Section 3: Data Types\n",
    "### Exercise 3.1: Identifying Data Types\n",
    "Create variables of different types and check their types:\n",
    "\n",
    "- An integer: num1 = 42\n",
    "- A string: text1 = \"Python Programming\"\n",
    "- A float: decimal1 = 3.14159\n",
    "- A boolean: is_student = True\n",
    "\n",
    "Use the type() function to check and print the type of each variable."
   ]
  },
  {
   "cell_type": "code",
   "execution_count": null,
   "id": "3e240477",
   "metadata": {},
   "outputs": [],
   "source": [
    "# Your code here\n",
    "# Integer\n",
    "# An integer:num1 = 42\n",
    "# num1 = 42\n",
    "# print(\"Type of num1:\" , type(num1))\n",
    "\n",
    "# Strings\n",
    "# A string: text1 = (\"python programming\")\n",
    "# print(\"Type of text1 :\" , type(\"text1\"))\n",
    "\n",
    "# Float\n",
    "# A float: decimal1 = 3.14159\n",
    "# decimal1 = 3.14159\n",
    "# print(\"Type of decimal1:\" , decimal1)\n",
    "# print(\"Value of decimal1:\" , decimal1)\n",
    "\n",
    "# Boolean\n",
    "# is_student = True\n",
    "# print(\"Type of is student:\" , type(is_student))\n",
    "# print(\"Value of is_student:\" , is_student)\n",
    "\n",
    "\n"
   ]
  },
  {
   "cell_type": "markdown",
   "id": "783be222",
   "metadata": {},
   "source": [
    "# Section 4: Strings and String Handling\n",
    "### Exercise 4.1: String Creation\n",
    "Create three string variables:\n",
    "\n",
    "- greeting = \"Hello\"\n",
    "- name = \"Python\"\n",
    "- exclamation = \"!\""
   ]
  },
  {
   "cell_type": "code",
   "execution_count": null,
   "id": "768bab0f",
   "metadata": {},
   "outputs": [],
   "source": [
    "# Your code here\n",
    "# String Variables\n",
    "# print(greeting + \" \" + name + exclamation)"
   ]
  },
  {
   "cell_type": "markdown",
   "id": "8d579589",
   "metadata": {},
   "source": [
    "### Exercise 4.2: String Concatenation\n",
    "Using the variables from Exercise 4.1, concatenate them to create:\n",
    "\n",
    "- \"Hello Python!\"\n",
    "- \"Python Hello!\"\n",
    "\n",
    "Print both results."
   ]
  },
  {
   "cell_type": "code",
   "execution_count": null,
   "id": "72208381",
   "metadata": {},
   "outputs": [],
   "source": [
    "# Your code here\n",
    "# String Varibles\n",
    "# greeting = \"Hello\"\n",
    "# name = \"python\"\n",
    "# exclamation = \"!\"\n",
    "\n",
    "# String Concentration\n",
    "# result1 = greeting + \" \" + name + exclamation\n",
    "# result2 = name.capitallize() + \" \" + greeting\n",
    "\n",
    "# print results\n",
    "# print(result1)\n",
    "# print(result2)\n"
   ]
  },
  {
   "cell_type": "markdown",
   "id": "cf66e2a4",
   "metadata": {},
   "source": [
    "### Exercise 4.3: String and Number Concatenation\n",
    "Create:\n",
    "\n",
    "- label = \"Your score is: \"\n",
    "- score = 95\n",
    "\n",
    "Concatenate them to print \"Your score is: 95\""
   ]
  },
  {
   "cell_type": "code",
   "execution_count": null,
   "id": "cee7791c",
   "metadata": {},
   "outputs": [],
   "source": [
    "# Your code here\n",
    "# Varibles\n",
    "# label = \"your score is\"\n",
    "# score = 95\n",
    "\n",
    "# Strings and Number concentration\n",
    "# result label + str(score)\n",
    "\n",
    "# print (\"result\") \n",
    "\n",
    "#result = f\"{label}{score}\n",
    "# print (results)"
   ]
  },
  {
   "cell_type": "markdown",
   "id": "2941c047",
   "metadata": {},
   "source": [
    "# Section 5: Type Conversion\n",
    "### Exercise 5.1: String to Integer\n",
    "Given str_num = \"25\":\n",
    "\n",
    "- Check its type\n",
    "- Convert it to an integer\n",
    "- Check the type of the converted value\n",
    "- Print both the original and converted values"
   ]
  },
  {
   "cell_type": "code",
   "execution_count": null,
   "id": "3f60f60e",
   "metadata": {},
   "outputs": [],
   "source": [
    "# Your code here\n",
    "# Strings Variables\n",
    "str_num = \"25\"\n",
    "\n",
    "# Check type\n",
    "print(\"original type:\" , type(str_num))\n",
    "\n",
    "# Convert string to integer\n",
    "# int_num = int(str_num)\n",
    "\n",
    "# Check type of the converted value\n",
    "# print(\"converted types:\" , type(int_num))\n",
    "\n",
    "# print both the oriinal and converted values\n",
    "# print(\"original value:\" , str_num)\n",
    "# print (converted value:\"intt_num\")"
   ]
  },
  {
   "cell_type": "markdown",
   "id": "745d3efa",
   "metadata": {},
   "source": [
    "### Exercise 5.2: Adding Numbers with Type Conversion\n",
    "You have:\n",
    "\n",
    "- num_a = 10\n",
    "- num_b = \"15\"\n",
    "\n",
    "Add these two numbers by converting num_b to an integer"
   ]
  },
  {
   "cell_type": "code",
   "execution_count": null,
   "id": "0af97c14",
   "metadata": {},
   "outputs": [],
   "source": [
    "# Your code here\n",
    "# Variables\n",
    "num_a = 10\n",
    "num_b = \"15\"\n",
    "#convert num_b to an integer\n",
    "# num_b_int = int(num_b)\n",
    "# Add the numbers\n",
    "# result(\"num_a + num_b_int\")\n",
    "# print the results\n",
    "# print (\"Result:\" , result)\n"
   ]
  },
  {
   "cell_type": "markdown",
   "id": "e49ca983",
   "metadata": {},
   "source": [
    "# Section 6: String Indexing\n",
    "### Exercise 6.1: Basic String Indexing\n",
    "\n",
    "Given student_name = \"Python\":\n",
    "\n",
    "- Print the character at index 2\n",
    "- Print the last character using negative indexing\n",
    "- Print the second-to-last character\n",
    "- Print the first character using negative indexing\n",
    "- Print the first and last characters together (e.g., \"P,n\")\n",
    "- Print characters at positions 0, 5, and -1 together"
   ]
  },
  {
   "cell_type": "code",
   "execution_count": null,
   "id": "1308ec0b",
   "metadata": {},
   "outputs": [],
   "source": [
    "# Your code here\n",
    "# String Variable\n",
    "# student_name = (\"python\")\n",
    "\n",
    "# print character at index 2\n",
    "# print(\"Character at index 2:\" , student_name[2])\n",
    "\n",
    "# print last character using negative indexing\n",
    "# print(\"Last character:\" , student_name[-1])\n",
    "\n",
    "# print second to last character\n",
    "# print(\"Second to last large character:\" , student_name[-2])\n",
    "\n",
    "# print first character using negative indexing\n",
    "# print(\"First character:\" , studenr_name)[-len(student_name)])\n",
    "\n",
    "# print first and last character together\n",
    "# print(\"First and last character:\" , student_name[0] + \" \" + student_name[-1])\n",
    "\n",
    "# print characters at positions o, 5 , and -1 together\n",
    "# print (\"Characters at position o, 5, and -1:\", student_name[0]),student_name[5],student_name[-1])\n",
    "\n",
    "\n"
   ]
  },
  {
   "cell_type": "markdown",
   "id": "9a6200bb",
   "metadata": {},
   "source": [
    "# Section 7: String Slicing\n",
    "### Exercise 7.1: Basic Slicing\n",
    "Given text = \"Hello, Python!\":\n",
    "\n",
    "- Extract \"Hello\"\n",
    "- Extract \"Python\"\n",
    "- Extract the last 5 characters"
   ]
  },
  {
   "cell_type": "code",
   "execution_count": null,
   "id": "37f370b7",
   "metadata": {},
   "outputs": [],
   "source": [
    "# Your code here\n",
    "# text = \"Hello,Python!\"\n",
    "\n",
    "# Extract \"Hello\"\n",
    "# text[0:5]\n",
    "# print(\"Hello:\" , hello)]\n",
    "\n",
    "# Extract \"Python\"\n",
    "# text[6:12]\n",
    "\n",
    "# Extract the last 5 characters\n",
    "# text[-5:]\n",
    "\n",
    "# print(\"text[0:5]\")\n",
    "# print(\"text[6:12]\")\n",
    "# print(\"text[-5:]\")"
   ]
  },
  {
   "cell_type": "markdown",
   "id": "45428fbc",
   "metadata": {},
   "source": [
    "### Exercise 7.2: Advanced Slicing\n",
    "Using alphabet = \"abcdefghijklmno\":\n",
    "\n",
    "- Extract \"cde\"\n",
    "- Extract every second character starting from index 0\n",
    "- Extract the string in reverse order\n",
    "- Extract every third character"
   ]
  },
  {
   "cell_type": "code",
   "execution_count": null,
   "id": "d42f1d9f",
   "metadata": {},
   "outputs": [],
   "source": [
    "# Your code here\n",
    "# alphabet = \"abcdefghijklmno\"\n",
    "\n",
    "# Extract \"cde\"\n",
    "# cde = alphabet[2:5] \n",
    "# print(\"cde:\" , cde)\n",
    "\n",
    "#Extract every second charcter starting from index 0\n",
    "# every_second = alphabet[::2]\n",
    "# print(\"Every second character:\" , every_second)\n",
    "\n",
    "#Extract every third character\n",
    "# every third = alphabet[::3]\n",
    "# print(\"Every third character:\" , every_third)\n"
   ]
  },
  {
   "cell_type": "markdown",
   "id": "f46f7b53",
   "metadata": {},
   "source": [
    "### Exercise 7.3: Practical Slicing\n",
    "Given sentence = \"Python programming is fun\":\n",
    "\n",
    "- Extract the word \"Python\"\n",
    "- Extract the word \"programming\"\n",
    "- Extract the last word \"fun\"\n",
    "- Extract every other character from the entire string"
   ]
  },
  {
   "cell_type": "code",
   "execution_count": null,
   "id": "fc62cca3",
   "metadata": {},
   "outputs": [],
   "source": [
    "# Your code here\n",
    "# sentence = \"Python programming is fun\"\n",
    "\n",
    "# Extract the word \"Python\"\n",
    "# python = sentence[:6]\n",
    "# print(\"python:\" , python)\n",
    "\n",
    "# Extract the word \"Programming\"\n",
    "# programming = sentence[7:18]\n",
    "# print(\"Programming:\" , programming)\n",
    "\n",
    "# Extract the last word \"fun\"\n",
    "# fun = sentence[-3:]\n",
    "# print(\"Fun:\" , fun)\n",
    "\n",
    "# Extract every other character from the entire string\n",
    "# every_other = sentence[::2]\n",
    "# print(\"Every other character:\" , every_other)"
   ]
  },
  {
   "cell_type": "markdown",
   "id": "fdc66f21",
   "metadata": {},
   "source": [
    "# Section 8: String Methods\n",
    "### Exercise 8.1: Mixed String Methods\n",
    "Create a program that:\n",
    "\n",
    "- Takes a string user_input = \"  hello WORLD  \"\n",
    "- Removes leading and trailing spaces (use .strip())\n",
    "- Converts it to title case\n",
    "- Checks if the result is alphabetic\n",
    "- Count the number of \"o\" characters\n",
    "- Replace \"o\" with \"0\""
   ]
  },
  {
   "cell_type": "code",
   "execution_count": null,
   "id": "d002cc6f",
   "metadata": {},
   "outputs": [],
   "source": [
    "# Your code here\n",
    "# user_input =\"hello WORLD\"\n",
    "# print(user_input.strip())\n",
    "# print(user_input.title())\n",
    "# print(user_input.isalpha())\n",
    "# print(user_input.count(\"o\"))\n",
    "# print(user_input.replace(\"o\",\"0\"))"
   ]
  },
  {
   "cell_type": "markdown",
   "id": "b4ac379d",
   "metadata": {},
   "source": [
    "# Section 9: Debugging Exercise\n",
    "### Exercise 9.1: Find and Fix the Errors\n",
    "The following code has several errors. Identify and fix them:\n",
    "\n",
    "```\n",
    "# Original code with errors (DO NOT RUN - FIX FIRST)\n",
    "name = 'John\n",
    "age = \"25\"\n",
    "print(\"Hello, \" + name)\n",
    "print(\"You are \" + age + \" years old\")\n",
    "print(name[0] + name[-1)\n",
    "result = int(\"abc\")\n",
    "```\n",
    "\n",
    "Write the corrected version below:"
   ]
  },
  {
   "cell_type": "code",
   "execution_count": null,
   "id": "2b40e20f",
   "metadata": {},
   "outputs": [],
   "source": [
    "# Your code here\n",
    "# Original code with errors (DO NOT RUN - FIX FIRST)\n",
    "# name = 'john'\n",
    "# age = 25\n",
    "# print(\"Hello,\" + name)\n",
    "# print(\"You are\" + str(age) + \"years old\")\n",
    "# print(name[0]) + name[-1]\n",
    "# result = int(\"abc\")\n"
   ]
  }
 ],
 "metadata": {
  "language_info": {
   "name": "python"
  }
 },
 "nbformat": 4,
 "nbformat_minor": 5
}
